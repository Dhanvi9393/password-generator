{
 "cells": [
  {
   "cell_type": "code",
   "execution_count": 1,
   "id": "ef27c7ac",
   "metadata": {},
   "outputs": [],
   "source": [
    "import random\n",
    "import string"
   ]
  },
  {
   "cell_type": "code",
   "execution_count": 2,
   "id": "2a154908",
   "metadata": {},
   "outputs": [],
   "source": [
    "def generate_password(length, use_uppercase, use_lowercase, use_digits, use_special_chars):\n",
    "    # Define character sets based on user preferences\n",
    "    character_set = ''\n",
    "    if use_uppercase:\n",
    "        character_set += string.ascii_uppercase\n",
    "    if use_lowercase:\n",
    "        character_set += string.ascii_lowercase\n",
    "    if use_digits:\n",
    "        character_set += string.digits\n",
    "    if use_special_chars:\n",
    "        character_set += string.punctuation\n",
    "\n",
    "    # Check if at least one character type is selected\n",
    "    if not character_set:\n",
    "        return \"Please select at least one character type.\"\n",
    "\n",
    "    # Generate the password\n",
    "    password = ''.join(random.choice(character_set) for _ in range(length))\n",
    "    return password"
   ]
  },
  {
   "cell_type": "code",
   "execution_count": 3,
   "id": "ad9acebd",
   "metadata": {},
   "outputs": [],
   "source": [
    "def main():\n",
    "    print(\"Random Password Generator\")\n",
    "\n",
    "    while True:\n",
    "        try:\n",
    "            length = int(input(\"Enter password length: \"))\n",
    "            use_uppercase = input(\"Include uppercase letters? (y/n): \").lower() == 'y'\n",
    "            use_lowercase = input(\"Include lowercase letters? (y/n): \").lower() == 'y'\n",
    "            use_digits = input(\"Include digits? (y/n): \").lower() == 'y'\n",
    "            use_special_chars = input(\"Include special characters? (y/n): \").lower() == 'y'\n",
    "\n",
    "            password = generate_password(length, use_uppercase, use_lowercase, use_digits, use_special_chars)\n",
    "\n",
    "            print(\"Generated Password:\", password)\n",
    "        except ValueError:\n",
    "            print(\"Invalid input. Please enter a valid password length.\")\n",
    "        except KeyboardInterrupt:\n",
    "            print(\"\\nExiting the program.\")\n",
    "            break"
   ]
  },
  {
   "cell_type": "code",
   "execution_count": null,
   "id": "caf31f76",
   "metadata": {},
   "outputs": [
    {
     "name": "stdout",
     "output_type": "stream",
     "text": [
      "Random Password Generator\n",
      "Enter password length: 8\n",
      "Include uppercase letters? (y/n): y\n",
      "Include lowercase letters? (y/n): y\n",
      "Include digits? (y/n): y\n",
      "Include special characters? (y/n): y\n",
      "Generated Password: ?q&wLZiI\n"
     ]
    }
   ],
   "source": [
    "if __name__ == \"__main__\":\n",
    "    main()"
   ]
  },
  {
   "cell_type": "code",
   "execution_count": null,
   "id": "7ff0b291",
   "metadata": {},
   "outputs": [],
   "source": []
  }
 ],
 "metadata": {
  "kernelspec": {
   "display_name": "Python 3 (ipykernel)",
   "language": "python",
   "name": "python3"
  },
  "language_info": {
   "codemirror_mode": {
    "name": "ipython",
    "version": 3
   },
   "file_extension": ".py",
   "mimetype": "text/x-python",
   "name": "python",
   "nbconvert_exporter": "python",
   "pygments_lexer": "ipython3",
   "version": "3.11.4"
  }
 },
 "nbformat": 4,
 "nbformat_minor": 5
}
